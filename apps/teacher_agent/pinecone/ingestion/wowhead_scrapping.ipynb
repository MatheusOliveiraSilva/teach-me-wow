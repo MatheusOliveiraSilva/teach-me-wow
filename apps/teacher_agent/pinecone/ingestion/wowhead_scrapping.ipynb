{
 "cells": [
  {
   "cell_type": "code",
   "execution_count": null,
   "metadata": {},
   "outputs": [
    {
     "name": "stdout",
     "output_type": "stream",
     "text": [
      "Iniciando o pipeline de ingestão para: https://www.wowhead.com/guide/classes/shaman/elemental/rotation-cooldowns-pve-dps\n",
      "[WowheadIngestionPipeline] Starting ingestion for URL: https://www.wowhead.com/guide/classes/shaman/elemental/rotation-cooldowns-pve-dps\n",
      "[AsyncWebFetcher] Launching browser for URL: https://www.wowhead.com/guide/classes/shaman/elemental/rotation-cooldowns-pve-dps...\n",
      "[AsyncWebFetcher] Fetching URL: https://www.wowhead.com/guide/classes/shaman/elemental/rotation-cooldowns-pve-dps...\n",
      "[AsyncWebFetcher] Page DOMContentLoaded, getting content...\n",
      "[AsyncWebFetcher] Browser closed.\n",
      "[WowheadIngestionPipeline] Page content fetched. Parsing...\n",
      "[WowheadGuideParser] Found 2 'div.text' elements. Processing them.\n",
      "[WowheadIngestionPipeline] Extracted 2 documents from https://www.wowhead.com/guide/classes/shaman/elemental/rotation-cooldowns-pve-dps.\n",
      "\n",
      "--- Processamento Concluído ---\n",
      "Total de documentos extraídos: 2\n",
      "\n",
      "--- Documento 1 ---\n",
      "  Fonte: https://www.wowhead.com/guide/classes/shaman/elemental/rotation-cooldowns-pve-dps\n",
      "  Título da Página: Elemental Shaman Rotation Guide - The War Within 11.1 - Wowhead\n",
      "  Título da Seção: How to Play Elemental Shaman\n",
      "  Preview do Conteúdo (16341 caracteres):\n",
      "  \"Learn the best Elemental Shaman rotation for The War Within Season 2. Details about how to excel at your Elemental Shaman and the optimal rotation for all talent builds in dungeons and raids for Patch 11.1.5 & Season 2 . Overview NEW Season 2 Cheat Sheet Talent Builds Hero Talents Rotation Gear Leveling Abilities & Talents Stats Consumables WA & Addons How to Play Elemental Shaman Elemental Shaman...\"\n",
      "\n",
      "--- Documento 2 ---\n",
      "  Fonte: https://www.wowhead.com/guide/classes/shaman/elemental/rotation-cooldowns-pve-dps\n",
      "  Título da Página: Elemental Shaman Rotation Guide - The War Within 11.1 - Wowhead\n",
      "  Título da Seção: Guide Section 2\n",
      "  Preview do Conteúdo (1458 caracteres):\n",
      "  \"Please keep the following in mind when posting a comment: Your comment must be in English or it will be removed. Unsure how to post? Check out our handy guide ! You might want to proof-read your comments before posting them. Please post questions on our forums for quicker reply. Post a Comment You are not logged in. Please log in or register an account to add your comment. Simply browse for your s...\"\n"
     ]
    }
   ],
   "source": [
    "from scrape_wowhead import WowheadIngestionPipeline\n",
    "\n",
    "async def ingest_a_wowhead_guide(target_url):\n",
    "    print(f\"Iniciando o pipeline de ingestão para: {target_url}\")\n",
    "    \n",
    "    pipeline = WowheadIngestionPipeline()\n",
    "    \n",
    "    documents = await pipeline.ingest_guide_from_url(target_url)\n",
    "    \n",
    "    print(f\"\\n--- Processment Completed ---\")\n",
    "    if documents:\n",
    "        print(f\"Total of documents extracted: {len(documents)}\")\n",
    "        for i, doc in enumerate(documents):\n",
    "            print(f\"\\n--- Document {i+1} ---\")\n",
    "            print(f\"  Source: {doc.metadata.get('source')}\")\n",
    "            print(f\"  Page Title: {doc.metadata.get('title')}\")\n",
    "            print(f\"  Section Title: {doc.metadata.get('section_title', 'N/A')}\")\n",
    "            print(f\"  Preview of Content ({len(doc.page_content)} characters):\")\n",
    "            print(f\"  \\\"{doc.page_content[:400].strip()}...\\\"\")\n",
    "    else:\n",
    "        print(\"No documents were extracted.\")\n",
    "\n",
    "    return documents\n",
    "\n",
    "documents = await ingest_a_wowhead_guide(target_url = \"https://www.wowhead.com/guide/classes/shaman/elemental/rotation-cooldowns-pve-dps\")"
   ]
  },
  {
   "cell_type": "code",
   "execution_count": 2,
   "metadata": {},
   "outputs": [
    {
     "name": "stdout",
     "output_type": "stream",
     "text": [
      "Learn the best Elemental Shaman rotation for The War Within Season 2. Details about how to excel at your Elemental Shaman and the optimal rotation for all talent builds in dungeons and raids for Patch 11.1.5 & Season 2 . Overview NEW Season 2 Cheat Sheet Talent Builds Hero Talents Rotation Gear Leveling Abilities & Talents Stats Consumables WA & Addons How to Play Elemental Shaman Elemental Shaman's rotation boils down to handling a few different types of resources well, minimizing waste as much as possible: Avoid Maelstrom waste - Using your resources efficiently is a big part of Elemental Shaman's gameplay loop. Spenders generally do more damage than generators, which means that any wasted Maelstrom is also waste damage. Additionally, a lot of our effects are triggered by the usage of our spenders. Deeply Rooted Elements and Lightning Rod are just some of the effects that require the usage of as many spenders as possible. Use your cooldowns - Elemental is a spec with a high number of cooldowns, some of which can be used more frequently than others. It is important to maximize the amount of casts of each of them to get the potential damage that they can help you deal. React to procs - Elemental Shaman's skill ceiling comes from a plethora of different random procs and timers that you have to manage while executing the fight mechanics at hand. Random procs like Lava Surge and Icefury have to be kept used continuously and reacted to accordingly to not waste value from other procs later on. Best Elemental Shaman Opener Elementals's general idea of an opener is \"get everything on cooldowns, then press Ascendance \". The season 2 tier set does not change this general mantra. Even though we lose some uptime from Echo of the Elementals by extending Storm Elemental by casting Storm Elemental we are running into the issue that the tier set is just too potent to do otherwise. If we are trying to delay Ascendance until Echo of the Elementals has triggered, we end up waiting so long that we are losing at least one use of Storm Elemental . Use the ✘ markers next to selected builds and talents to populate the priority list. Options Farseer Raid Build Stormbringer M+ Build Sequence Pre-cast Storm Elemental 4.5 seconds before pull. Ensure not to have any enemies targeted; otherwise, this might pull. Pre-cast Stormkeeper about 3 seconds before pull. Cast Lava Burst about 1.5 seconds before pull. Cast Flame Shock . Cast Primordial Wave and Ancestral Swiftness . Cast Ascendance . Cast Lava Burst . Cast Lightning Bolt to consume the first charge of Stormkeeper . Cast Lava Burst if you can. Cast Lightning Bolt to consume your second Stormkeeper charge. Sequence Pre-cast Storm Elemental 3 seconds before pull. Ensure not to have any enemies targeted; otherwise, this might pull. Pre-cast Stormkeeper about 1.5 seconds before pull. Cast Chain Lightning top pull. Opener Tips When casting Storm Elemental make sure not to target any enemies. The Elemental will immediately start casting, even when not yet in combat and pull the boss. Any macros that change your target automatically will not work. If you get an Icefury proc during your opener, it is a very minor gain to use it early and get a Fusion of Elements proc while still in your burst window. Make sure this Icefury does not consume any Master of the Elements buffs, otherwise this ends up being a DPS loss. We are casting Storm Elemental before Stormkeeper to marginally improve our DPS. The Lightning Elemental spawned by Fury of the Storms has slightly stronger casts than Storm Elemental , so maximizing the uptime on it is slightly more important. Casting Storm Elemental before Ascendance means we lose some uptime on our tier effect. This is fine. We use Primordial Wave before Ascendance , because it does not benefit from any additional overloads. Using Primordial Wave within Ascendance is a DPS loss. Elemental Shaman Single Target Rotation and Priority Use the ✘ markers next to selected builds and talents to populate the priority list. Hero Tree Farseer Raid Build Stormbringer M+ Build Talents Storm Elemental Fire Elemental Earth Shock Elemental Blast Herald of the Storm Fury of the Storms Echoes of Great Sundering Priority Use Storm Elemental on cooldown. Use Fire Elemental on cooldown. Use Stormkeeper on cooldown. It should line up with Ascendance . Use Stormkeeper roughly on cooldown. Hold it for up to 10 seconds to sync with Ascendance . Use Flame Shock , when you have no Master of the Elements active, to maintain the DoT on your target. Delay it, if Ascendance comes up before the DoT runs out. Use Ascendance to maximize the number of uses. You can delay this spell to line up better with potions, trinkets or burst phases (check below). Use Tempest on cooldown. Use Elemental Blast if you have Master of the Elements active or you are close to cap. (Yes, we ignore Echoes of Great Sundering ) Use Earth Shock if you have Master of the Elements active or you are close to cap. (Yes, we ignore Echoes of Great Sundering ) Use Elemental Blast if you have Master of the Elements active or you are close to cap. Use Earth Shock if you have Master of the Elements active or you are close to cap. Use Icefury if you have no Fusion of Elements buffs active (check below). Use Lava Burst when available. Use Frost Shock solely for movement. Use Lightning Bolt . Talents Storm Elemental Fire Elemental Earth Shock Elemental Blast Herald of the Storm Fury of the Storms Echoes of Great Sundering Priority Use Storm Elemental on cooldown. Use Fire Elemental on cooldown. Use Stormkeeper on cooldown. It should line up with Ascendance . Use Stormkeeper roughly on cooldown. Hold it for up to 10 seconds to sync with Ascendance . Use Flame Shock when you have no Master of the Elements active to maintain the DoT on your target. Delay it, if Ascendance comes up before the DoT runs out. Use Ascendance to maximize the number of uses. You can delay this spell to line up better with potions, trinkets or burst phases (check below). Use Primordial Wave and Ancestral Swiftness together on cooldown. They will desync slightly. Just use them as soon as they are available. Use Elemental Blast if you have Master of the Elements active or you are close to Maelstrom cap. (Yes, we ignore Echoes of Great Sundering ) Use Earth Shock if you have Master of the Elements active or you are close to Maelstrom cap. (Yes, we ignore Echoes of Great Sundering ) Use Elemental Blast if you have Master of the Elements active or you are close to Maelstrom cap. Use Earth Shock if you have Master of the Elements active or you are close to Maelstrom cap. Use Icefury if you have no Fusion of Elements buffs active (check below). Use Lava Burst if you have no Master of the Elements active and either of the following conditions is true:. have Lava Surge active. have 2 charges of Lava Burst . have at least 52 Maelstrom . have at least 82 Maelstrom . Use Frost Shock if you have Icefury active and you are not in Ascendance . Use Lightning Bolt . Ascendance Window When Ascendance comes up, try to gather all your short cooldowns Stormkeeper and Primordial Wave , potion if applicable, and 2 charges of Lava Burst and repeat the (lightly modified) cast-sequence from the opener: You want to use your first Ascendance at pull and maximize uses and cooldown overlap for the rest of the fight. If the fight lasts 5 minutes, you can burst at pull and at 3 minutes. If the fight lasts 6 minutes, you should delay the second Ascendance to line up with your second pot at 5 minutes. If the fight lasts 7 minutes you want to Ascendance at pull, at 3 minutes and at 6 minutes and in turn delay the second potion for the third Ascendance . Waiting for Primordial Wave , Ancestral Swiftness and Stormkeeper should rarely be necessary. All these spells are on a 30-second or 1-minute cooldown and should line up naturally if you used them as soon as they became available. Understanding the Gameplay Use your Lava Burst to generate Master of the Elements which you use to buff your spenders like Earth Shock or Elemental Blast . Be smart about when to spend your Maelstrom . Earth Shock is our main movement global outside of Icefury . It makes sense to pool some Maelstrom when you do not currently need to move. Always use your Storm Elemental / Fire Elemental on cooldown. Especially with the tier set, holding any of your Elementals is never a gain. Similarly, I do not recommend trying to micro-manage the pets and instead just letting them autocast. Elemental Shaman AoE Rotation and Priority Use the ✘ markers next to selected builds and talents to populate the priority list. Hero Tree Farseer Raid Build Stormbringer M+ Build Talents Storm Elemental Fire Elemental Earth Shock Elemental Blast Herald of the Storm Fury of the Storms Echoes of Great Sundering Number of Enemies 2 Targets 3 Targets 4 or more Targets Priority Use Storm Elemental on cooldown. Use Fire Elemental on cooldown. Use Stormkeeper on cooldown. It should line up with Ascendance . Use Stormkeeper roughly on cooldown. Hold it for up to 10 seconds to sync with Ascendance . Keep up 1 Flame Shock . Refresh it at 5 seconds remaining or less. Use Ascendance . Try to use it at the start of a pull and line it up with Stormkeeper and Tempest . Use Tempest on cooldown. Use Lava Burst against a target with Flame Shock . Use Lava Burst only with Lava Surge against a target with Flame Shock . Use Elemental Blast if you do not have Echoes of Great Sundering active. Try to target an enemy without an active Lightning Rod . Use Earth Shock if you do not have Echoes of Great Sundering active. Try to target an enemy without an active Lightning Rod . Use Earthquake if you have Echoes of Great Sundering active. Use Earthquake if you have Master of the Elements active or you are close to cap. Use Icefury . Delay it for movement events if applicable. Use Flame Shock to proc Fusion of Elements . Use Chain Lightning . You can apply Flame Shock to your second target as a movement global. This is DPS neutral. Talents Storm Elemental Fire Elemental Earth Shock Elemental Blast Herald of the Storm Fury of the Storms Echoes of Great Sundering Number of Enemies 2 Targets 3 Targets 4 or more Targets Priority Use Storm Elemental on cooldown. Use Fire Elemental on cooldown. Use Stormkeeper on cooldown. It should line up with Ascendance . Use Stormkeeper roughly on cooldown. Hold it for up to 10 seconds to sync with Ascendance . Keep up 1 Flame Shock . Refresh it at 5 seconds remaining or less. Use Ascendance . Try to use it at the start of a pull and line it up with Stormkeeper and Primordial Wave . Use Primordial Wave . Use it after Ascendance to benefit from the additional Flame Shock if you don't need to delay it by more than 10 seconds. Otherwise just use it on cooldown. Use Lava Burst against a target with (Spell #47041) . Use Lava Burst only with Lava Surge against a target with (Spell #47041) . Use Elemental Blast if you do not have Echoes of Great Sundering active. Try to target an enemy without an active Lightning Rod . Use Earth Shock if you do not have Echoes of Great Sundering active. Try to target an enemy without an active Lightning Rod . Use Earthquake if you have Echoes of Great Sundering active. Use Earthquake if you have Master of the Elements active or you are close to cap. Use Icefury . Delay it for movement events if applicable. Use Flame Shock to proc Fusion of Elements . Use Chain Lightning . You can apply Flame Shock to your second target as a movement global. This is DPS neutral. Understanding Elemental AoE A big part of your AoE comes from Lightning Rod . Make sure to spread out the debuff as much as you can. Earth Shock / Elemental Blast and Tempest apply the debuff to their main target, whereas Earthquake prefers the main target, but in case there is a Lightning Rod on the main target already, it uses a different target without any debuff instead. Keep the above in mind when casting Earthquake right after Tempest . In this case Earthquake will apply Lightning Rod while the Tempest is still in flight to the same target, potentially wasting a debuff. Fusion of the Elements Some additional information about Fusion of Elements . This is probably the most misleading and confusing talent the spec has seen in a while. Whenever you cast Icefury , you get 2 invisible buffs, one for Nature, one for Fire. Each of them is consumed when dealing damage with the respective spell school. Only after consuming both , the free Elemental Blast is generated. This Elemental Blast is usually send at your current target, with some exceptions e.g. if the last buff consumed is the Nature buff and you consume it with Chain Lightning , in which case it gets send to the last target hit by Elemental Blast . Primordial Wave is another spell that behaves abnormally, not consuming any buffs and not triggering any part of the talent, even though it is Elemental damage. The generated Elemental Blast barely interacts with other spells or talents, but it does apply Lightning Rod , so you want to try to change to a target without this debuff before triggering it. This optimization is very minimal (sub .5%), but it can be good to keep in mind. Because it is impossible to track the buffs applied by this talent in-game, weakauras were made that try to approximate the behavior: Thanks to Nikyou for making this https:// wago.io/ fjD7byOXF . Elemental Shaman Major Cooldown Usage Ascendance Ascendance Primordial Wave Primordial Wave Elementals Elementals With the rework Ascendance just became a lot stronger. When used it applies Flame Shock to up to 6 targets in your vicinity and then generates a Lava Burst on every Flame Shock ed target right after. Furthermore, it increases the damage of all Overloads by 150% and also gives one additional overload on every spell that can overload. You will generally try to maximize the damage done within this cooldown. To do so, try to pool your hardest hitting spells by preparing some Maelstrom , some stacks of Awakening Storms and preferably ready another Tempest to proc from resource-spending during the cooldown, as well as Stormkeeper and Primordial Wave . Calling Primordial Wave a cooldown at this point is a real misnomer. The spell deals minor damage to all targets with an active Flame Shock on them and generates 3 Maelstrom , regardless of the number of targets hit. Splintered Elements barely turns the spell functional, granting a non-negligible amount of haste, but even then it would not be worth 2 talent points. The real use case here comes from the Farseer hero tree, which allows Primordial Wave to spawn additional pets, which makes the talent basically mandatory when playing this hero tree. The best way to think about both DPS Elementals Fire Elemental and Storm Elemental is as passive buff dispensers. While the various talents that affect them, like Elemental Unity and Echo of the Elementals , are strong, they aren't rotationally impactful, but rather reinforce talent builds. Use them on cooldown as much as possible, but don't bother thinking about them any more than that. About the Author I'm HawkCorrigan or Hawk for short. I play Elemental Shaman on a semi-hardcore level on Draenor, primarily focusing on PvE content. Usually, you can find me lurking around the Earthshrine Discord as one of the Elemental MVPs, answering various questions, or hanging around Simulationcraft, where I maintain Elemental Shaman modules. I am also one of the active maintainers for Storm, Earth and Lava . Our Elemental Shaman guides are always updated with the latest information from in-game experience, simulations, and logs; make sure to check our changelog to this page, by clicking on View Changelog at the Quick Facts column or on the book icon at the top of the page. If you are interested in more in-depth Elemental Shaman guides for Patch 11.1.5 & Season 2 , make sure to browse the Navigation Bar below, and our list of Related Guides just beneath the Table of Contents . Feedback Thanks for reading our class guides! If you have any feedback about the guides, feel free to leave a comment in the section below and we will reply as quickly as possible. If you'd like to talk with any of our writers directly you can do so by joining our Discord Server and finding them there!\n"
     ]
    }
   ],
   "source": [
    "print(documents)"
   ]
  },
  {
   "cell_type": "code",
   "execution_count": null,
   "metadata": {},
   "outputs": [],
   "source": []
  }
 ],
 "metadata": {
  "kernelspec": {
   "display_name": ".venv",
   "language": "python",
   "name": "python3"
  },
  "language_info": {
   "codemirror_mode": {
    "name": "ipython",
    "version": 3
   },
   "file_extension": ".py",
   "mimetype": "text/x-python",
   "name": "python",
   "nbconvert_exporter": "python",
   "pygments_lexer": "ipython3",
   "version": "3.12.9"
  }
 },
 "nbformat": 4,
 "nbformat_minor": 2
}
